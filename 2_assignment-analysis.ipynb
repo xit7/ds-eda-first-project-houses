{
 "cells": [
  {
   "cell_type": "markdown",
   "metadata": {},
   "source": [
    "# King County Housing Data\n",
    "Student: Claude Mindt-Kries\n",
    "\n",
    "## Case: Nicole Johnson (Buyer) & Outcome\n",
    "Nicole wants to buy a house following the following criteria:\n",
    "* lively neighborhood\n",
    "* central location\n",
    "* middle price range\n",
    "* right timing: within a year\n",
    "* Use assumptions to questions your client Nicole may have, just write them down clearly\n",
    "\n",
    "## Outcome I: Data Insights\n",
    "At least 3 insights on overall data - 1 should be geographical.\n",
    "\n",
    "1. ...\n",
    "2. ...\n",
    "3. Geogprahical: ...\n",
    "\n",
    "\n",
    "## Outcome II: Client Recommendation\n",
    "Give advice to buyer which house to buy and why\n",
    "1. ...\n",
    "2. ...\n",
    "3. ...\n",
    "\n",
    "\n",
    "## General Process\n",
    "1. Understanding (data, columns, types, domain)\n",
    "2. Hypothesis: Key assumptions, questions to self\n",
    "3. Explore (groups, skewness, centrality/spread), re-express if needed\n",
    "4. Clean (missing calues, extremes, outliers)\n",
    "5. Relationship (correlations)\n",
    "6. Hypothesis Re-iteration (assumption correct? right questions?)\n",
    "7. Fine tune (keep only relevant plots, make clear and self explanatory)\n",
    "8. Explain (document thought process, why what has been done)\n",
    "\n",
    "<img src=\"./files/EDA_Checklist.png\" alt=\"Checklist\" style=\"width:100px;\"/>\n",
    "\n",
    "## Expected Output\n",
    "1. This jupyter notebook (well documented, essence only), published to GitHub.\n",
    "2. Presentation/slides 10 min + 5 min discussion\n",
    "3. Updated README.\n",
    "4. Optional: Python script cleaning data"
   ]
  },
  {
   "cell_type": "code",
   "execution_count": null,
   "metadata": {},
   "outputs": [],
   "source": [
    "#"
   ]
  }
 ],
 "metadata": {
  "kernelspec": {
   "display_name": ".venv",
   "language": "python",
   "name": "python3"
  },
  "language_info": {
   "name": "python",
   "version": "3.11.3"
  },
  "orig_nbformat": 4
 },
 "nbformat": 4,
 "nbformat_minor": 2
}
